{
 "cells": [
  {
   "cell_type": "code",
   "execution_count": 2,
   "metadata": {},
   "outputs": [],
   "source": [
    "# a 1\n",
    "# a 2\n",
    "# a 3\n",
    "# ----\n",
    "# b 1\n",
    "# b 2\n",
    "# b 3\n",
    "# ----"
   ]
  },
  {
   "cell_type": "code",
   "execution_count": 6,
   "metadata": {
    "scrolled": true
   },
   "outputs": [
    {
     "name": "stdout",
     "output_type": "stream",
     "text": [
      "a 1\n",
      "a 2\n",
      "a 3\n",
      "----\n",
      "b 1\n",
      "b 2\n",
      "b 3\n",
      "----\n"
     ]
    }
   ],
   "source": [
    "for letter in \"ab\":\n",
    "    for number in range(1, 4):\n",
    "        print(letter, number)\n",
    "    print('----')"
   ]
  },
  {
   "cell_type": "code",
   "execution_count": 8,
   "metadata": {},
   "outputs": [],
   "source": [
    "gruzovik = [\n",
    "    [\"a\", \"b\", \"c\"],\n",
    "    [1, 2, 3],\n",
    "    [\"qwer\", \"qazx\", \"tyue\"],\n",
    "]"
   ]
  },
  {
   "cell_type": "code",
   "execution_count": 9,
   "metadata": {},
   "outputs": [
    {
     "data": {
      "text/plain": [
       "[['a', 'b', 'c'], [1, 2, 3], ['qwer', 'qazx', 'tyue']]"
      ]
     },
     "execution_count": 9,
     "metadata": {},
     "output_type": "execute_result"
    }
   ],
   "source": [
    "gruzovik"
   ]
  },
  {
   "cell_type": "markdown",
   "metadata": {},
   "source": [
    "# Матрицы == список списков\n",
    "\n",
    "3x3 , 2x2 - квадратная матрица"
   ]
  },
  {
   "cell_type": "code",
   "execution_count": 10,
   "metadata": {},
   "outputs": [
    {
     "data": {
      "text/plain": [
       "[[1, 2, 3], [4, 5, 6], [7, 8, 9]]"
      ]
     },
     "execution_count": 10,
     "metadata": {},
     "output_type": "execute_result"
    }
   ],
   "source": [
    "[\n",
    "    [1, 2, 3],\n",
    "    [4, 5, 6],\n",
    "    [7, 8, 9],\n",
    "]"
   ]
  },
  {
   "cell_type": "code",
   "execution_count": 42,
   "metadata": {},
   "outputs": [],
   "source": [
    "matrix = []"
   ]
  },
  {
   "cell_type": "code",
   "execution_count": 46,
   "metadata": {},
   "outputs": [
    {
     "name": "stdout",
     "output_type": "stream",
     "text": [
      "[1]\n",
      "[1, 2]\n",
      "[1, 2, 3]\n",
      "[1, 2, 3, 'a']\n",
      "[1, 2, 3, 'a', True]\n",
      "[1, 2, 3, 'a', True]\n"
     ]
    }
   ],
   "source": [
    "box = []\n",
    "for number_row in [1, 2, 3, \"a\", True]:\n",
    "    box.append(number_row)\n",
    "print(box)"
   ]
  },
  {
   "cell_type": "code",
   "execution_count": 43,
   "metadata": {},
   "outputs": [],
   "source": [
    "for number_row in range(1, 4):  # [1, 2, 3]\n",
    "    box = []\n",
    "    for number_col in range(1, 4):  # [1, 2, 3]\n",
    "        box.append(number_col)\n",
    "    matrix.append(box)"
   ]
  },
  {
   "cell_type": "code",
   "execution_count": 44,
   "metadata": {},
   "outputs": [
    {
     "data": {
      "text/plain": [
       "[[1, 2, 3], [4, 5, 6], [7, 8, 9]]"
      ]
     },
     "execution_count": 44,
     "metadata": {},
     "output_type": "execute_result"
    }
   ],
   "source": [
    "matrix"
   ]
  },
  {
   "cell_type": "markdown",
   "metadata": {},
   "source": [
    "## Задание 5.01\n",
    "Создать квадратную матрицу размерностью n и заполнить ее случайными значениями от 1 до 9."
   ]
  },
  {
   "cell_type": "code",
   "execution_count": 45,
   "metadata": {},
   "outputs": [],
   "source": [
    "import random"
   ]
  },
  {
   "cell_type": "code",
   "execution_count": 58,
   "metadata": {},
   "outputs": [],
   "source": [
    "N = 5\n",
    "matrix = []\n",
    "for _i in range(N):\n",
    "    box = []\n",
    "    for _j in range(N):\n",
    "        box.append(random.randint(1, 9))\n",
    "    matrix.append(box)"
   ]
  },
  {
   "cell_type": "code",
   "execution_count": 59,
   "metadata": {},
   "outputs": [
    {
     "data": {
      "text/plain": [
       "[[4, 9, 3, 4, 5],\n",
       " [7, 8, 6, 8, 1],\n",
       " [3, 2, 4, 2, 3],\n",
       " [8, 5, 8, 6, 8],\n",
       " [5, 5, 1, 3, 3]]"
      ]
     },
     "execution_count": 59,
     "metadata": {},
     "output_type": "execute_result"
    }
   ],
   "source": [
    "matrix"
   ]
  },
  {
   "cell_type": "markdown",
   "metadata": {},
   "source": [
    "# Задание 5.02\n",
    "Создать квадратную матрицу размерностью n и заполнить ее случайными значениями. Найти сумму всех элементов матрицы, которые кратны 3."
   ]
  },
  {
   "cell_type": "code",
   "execution_count": 65,
   "metadata": {},
   "outputs": [
    {
     "name": "stdout",
     "output_type": "stream",
     "text": [
      "Кратное 3ем число:  6\n",
      "Кратное 3ем число:  3\n",
      "Кратное 3ем число:  3\n",
      "[[6, 7, 1], [2, 3, 2], [7, 3, 8]]\n"
     ]
    }
   ],
   "source": [
    "result_less_3 = 0\n",
    "N = 3\n",
    "matrix = []\n",
    "for _i in range(N):\n",
    "    box = []\n",
    "    for _j in range(N):\n",
    "        item = random.randint(1, 9)\n",
    "        box.append(item)\n",
    "        if item % 3 == 0:\n",
    "            print(\"Кратное 3ем число: \", item)\n",
    "            result_less_3 += item\n",
    "    matrix.append(box)\n",
    "print(matrix)"
   ]
  },
  {
   "cell_type": "code",
   "execution_count": 66,
   "metadata": {},
   "outputs": [
    {
     "name": "stdout",
     "output_type": "stream",
     "text": [
      "12\n"
     ]
    }
   ],
   "source": [
    "print(result_less_3)"
   ]
  },
  {
   "cell_type": "markdown",
   "metadata": {},
   "source": [
    "# Задание 5.03\n",
    "Дан двумерный массив n × m элементов. Определить, сколько раз встречается число 7 среди элементов массива."
   ]
  },
  {
   "cell_type": "code",
   "execution_count": 67,
   "metadata": {},
   "outputs": [],
   "source": [
    "N = 3\n",
    "M = 5\n",
    "matrix = []\n",
    "count_7 = 0\n",
    "for _i in range(N):\n",
    "    box = []\n",
    "    for _j in range(M):\n",
    "        item = random.randint(1, 9)\n",
    "        box.append(item)\n",
    "        if item == 7:\n",
    "            count_7 += 1\n",
    "    matrix.append(box)"
   ]
  },
  {
   "cell_type": "code",
   "execution_count": 68,
   "metadata": {},
   "outputs": [
    {
     "name": "stdout",
     "output_type": "stream",
     "text": [
      "[[3, 1, 9, 5, 5], [1, 9, 7, 3, 3], [7, 4, 9, 4, 8]]\n",
      "Кол-во 7рок в матрице:  2\n"
     ]
    }
   ],
   "source": [
    "print(matrix)\n",
    "print(\"Кол-во 7рок в матрице: \", count_7)"
   ]
  },
  {
   "cell_type": "markdown",
   "metadata": {},
   "source": [
    "# enumerate\n",
    "Задача: вывести буквы из строки \"python\" вместе с номером позиции"
   ]
  },
  {
   "cell_type": "code",
   "execution_count": 73,
   "metadata": {
    "scrolled": true
   },
   "outputs": [
    {
     "name": "stdout",
     "output_type": "stream",
     "text": [
      "0 p\n",
      "1 y\n",
      "2 t\n",
      "3 h\n",
      "4 o\n",
      "5 n\n"
     ]
    }
   ],
   "source": [
    "for index, letter in enumerate(\"python\"):\n",
    "    print(index, letter)"
   ]
  },
  {
   "cell_type": "markdown",
   "metadata": {},
   "source": [
    "# Задание 5.04\n",
    "Дана целочисленная матрица А[n,m]. Посчитать количество элементов матрицы, превосходящих среднее арифметическое значение элементов матрицы и сумма индексов которых четна"
   ]
  },
  {
   "cell_type": "code",
   "execution_count": 76,
   "metadata": {},
   "outputs": [],
   "source": [
    "N = 2\n",
    "M = 3\n",
    "A = [\n",
    "    [3, 6, 7],\n",
    "    [1, 1, 10],\n",
    "]"
   ]
  },
  {
   "cell_type": "code",
   "execution_count": 87,
   "metadata": {},
   "outputs": [
    {
     "data": {
      "text/plain": [
       "10"
      ]
     },
     "execution_count": 87,
     "metadata": {},
     "output_type": "execute_result"
    }
   ],
   "source": [
    "A[1][2]"
   ]
  },
  {
   "cell_type": "code",
   "execution_count": 80,
   "metadata": {},
   "outputs": [],
   "source": [
    "summa = 0\n",
    "avg = 0\n",
    "count_more_than_avg = 0"
   ]
  },
  {
   "cell_type": "code",
   "execution_count": 82,
   "metadata": {},
   "outputs": [
    {
     "name": "stdout",
     "output_type": "stream",
     "text": [
      "0 [3, 6, 7]\n",
      "1 [1, 1, 10]\n"
     ]
    }
   ],
   "source": [
    "# Step 1\n",
    "for index, box in enumerate(A):\n",
    "    print(index, box)"
   ]
  },
  {
   "cell_type": "code",
   "execution_count": 86,
   "metadata": {},
   "outputs": [
    {
     "name": "stdout",
     "output_type": "stream",
     "text": [
      "Номер коробки: 0 Номер внутри коробки: 0 Значение: 3\n",
      "Номер коробки: 0 Номер внутри коробки: 1 Значение: 6\n",
      "Номер коробки: 0 Номер внутри коробки: 2 Значение: 7\n",
      "Номер коробки: 1 Номер внутри коробки: 0 Значение: 1\n",
      "Номер коробки: 1 Номер внутри коробки: 1 Значение: 1\n",
      "Номер коробки: 1 Номер внутри коробки: 2 Значение: 10\n"
     ]
    }
   ],
   "source": [
    "# Step 2\n",
    "for box_index, box in enumerate(A):\n",
    "    for item_index, item in enumerate(box):\n",
    "        print(\n",
    "            \"Номер коробки:\", box_index, \n",
    "            \"Номер внутри коробки:\", item_index, \n",
    "            \"Значение:\", item,\n",
    "        )"
   ]
  },
  {
   "cell_type": "code",
   "execution_count": 93,
   "metadata": {
    "scrolled": true
   },
   "outputs": [
    {
     "name": "stdout",
     "output_type": "stream",
     "text": [
      "28\n",
      "4.666666666666667\n"
     ]
    }
   ],
   "source": [
    "# Step 3\n",
    "summa = 0\n",
    "for box_index, box in enumerate(A):\n",
    "    for item_index, item in enumerate(box):\n",
    "        summa += item\n",
    "print(summa)\n",
    "avg = summa / (N*M)\n",
    "print(avg)"
   ]
  },
  {
   "cell_type": "code",
   "execution_count": 95,
   "metadata": {},
   "outputs": [
    {
     "name": "stdout",
     "output_type": "stream",
     "text": [
      "1\n"
     ]
    }
   ],
   "source": [
    "# Step 4\n",
    "count_more_than_avg = 0\n",
    "for box_index, box in enumerate(A):\n",
    "    for item_index, item in enumerate(box):\n",
    "        if item > avg and (box_index + item_index) % 2 == 0:\n",
    "            count_more_than_avg += 1\n",
    "print(count_more_than_avg)"
   ]
  },
  {
   "cell_type": "markdown",
   "metadata": {},
   "source": [
    "# Задание 5.05\n",
    "Создать список с фамилиями. Вывести все фамилии, которые начинаются на П и заканчиваются на а"
   ]
  },
  {
   "cell_type": "code",
   "execution_count": 100,
   "metadata": {},
   "outputs": [],
   "source": [
    "people = [\"Петрова\", \"Иванов\", \"Лебедева\", \"Павлов\", \"Седова\", \"Пушкина\"]"
   ]
  },
  {
   "cell_type": "code",
   "execution_count": 102,
   "metadata": {},
   "outputs": [
    {
     "name": "stdout",
     "output_type": "stream",
     "text": [
      "Петрова\n",
      "Пушкина\n"
     ]
    }
   ],
   "source": [
    "for person in people:\n",
    "    if person.startswith(\"П\") and person.endswith(\"а\"):\n",
    "        print(person)"
   ]
  },
  {
   "cell_type": "markdown",
   "metadata": {},
   "source": [
    "# Else in Forloop"
   ]
  },
  {
   "cell_type": "code",
   "execution_count": 104,
   "metadata": {},
   "outputs": [
    {
     "name": "stdout",
     "output_type": "stream",
     "text": [
      "Good morning\n"
     ]
    }
   ],
   "source": [
    "if \"a\" in \"Andrew\":\n",
    "    print(\"Hello\")\n",
    "elif \"w\" in \"Andrew\":\n",
    "    print(\"Good morning\")\n",
    "else:\n",
    "    print(\"Poka\")"
   ]
  },
  {
   "cell_type": "code",
   "execution_count": 107,
   "metadata": {},
   "outputs": [
    {
     "name": "stdout",
     "output_type": "stream",
     "text": [
      "0\n",
      "1\n",
      "2\n",
      "3\n",
      "4\n",
      "5\n",
      "6\n",
      "7\n",
      "8\n",
      "9\n",
      "Works fine\n"
     ]
    }
   ],
   "source": [
    "for i in range(10):\n",
    "    print(i)\n",
    "else:\n",
    "    print(\"Works fine\")"
   ]
  },
  {
   "cell_type": "code",
   "execution_count": 114,
   "metadata": {
    "scrolled": true
   },
   "outputs": [
    {
     "name": "stdout",
     "output_type": "stream",
     "text": [
      "0\n",
      "1\n",
      "2\n",
      "3\n",
      "4\n",
      "5\n",
      "6\n",
      "7\n",
      "8\n",
      "9\n"
     ]
    }
   ],
   "source": [
    "for i in range(10):\n",
    "    print(i)\n",
    "    if i > 8:\n",
    "        break\n",
    "else:\n",
    "    print(\"Works fine\")"
   ]
  },
  {
   "cell_type": "code",
   "execution_count": 117,
   "metadata": {},
   "outputs": [],
   "source": [
    "people = {\n",
    "    'Ivanov': 45, \n",
    "    'Petrov': 37, \n",
    "    'Sidorov': 29,\n",
    "} "
   ]
  },
  {
   "cell_type": "code",
   "execution_count": 118,
   "metadata": {},
   "outputs": [
    {
     "data": {
      "text/plain": [
       "{'Ivanov': 45, 'Petrov': 37, 'Sidorov': 29}"
      ]
     },
     "execution_count": 118,
     "metadata": {},
     "output_type": "execute_result"
    }
   ],
   "source": [
    "people"
   ]
  },
  {
   "cell_type": "code",
   "execution_count": 119,
   "metadata": {},
   "outputs": [
    {
     "data": {
      "text/plain": [
       "dict_keys(['Ivanov', 'Petrov', 'Sidorov'])"
      ]
     },
     "execution_count": 119,
     "metadata": {},
     "output_type": "execute_result"
    }
   ],
   "source": [
    "people.keys()"
   ]
  },
  {
   "cell_type": "code",
   "execution_count": 120,
   "metadata": {},
   "outputs": [
    {
     "data": {
      "text/plain": [
       "dict_values([45, 37, 29])"
      ]
     },
     "execution_count": 120,
     "metadata": {},
     "output_type": "execute_result"
    }
   ],
   "source": [
    "people.values()"
   ]
  },
  {
   "cell_type": "code",
   "execution_count": 121,
   "metadata": {},
   "outputs": [
    {
     "data": {
      "text/plain": [
       "dict_items([('Ivanov', 45), ('Petrov', 37), ('Sidorov', 29)])"
      ]
     },
     "execution_count": 121,
     "metadata": {},
     "output_type": "execute_result"
    }
   ],
   "source": [
    "people.items()"
   ]
  },
  {
   "cell_type": "raw",
   "metadata": {},
   "source": [
    "Фамилия: Ivanov, Возраст: 45\n",
    "Фамилия: Petrov, Возраст: 37\n",
    "Фамилия: Sidorov, Возраст: 29"
   ]
  },
  {
   "cell_type": "code",
   "execution_count": 122,
   "metadata": {},
   "outputs": [
    {
     "name": "stdout",
     "output_type": "stream",
     "text": [
      "Фамилия: Ivanov, Возраст: 45\n",
      "Фамилия: Petrov, Возраст: 37\n",
      "Фамилия: Sidorov, Возраст: 29\n"
     ]
    }
   ],
   "source": [
    "for key, value in people.items():\n",
    "    print(f\"Фамилия: {key}, Возраст: {value}\")"
   ]
  },
  {
   "cell_type": "markdown",
   "metadata": {},
   "source": [
    "# Задание 5.06\n",
    "Создать список учеников подобной структуры. Определить средний балл оценок по всем предметам, и вывести сведения о студентах, средний балл которых больше 4."
   ]
  },
  {
   "cell_type": "raw",
   "metadata": {},
   "source": [
    "pupils = [\n",
    "    {\n",
    "        'firstname': 'Masha',\n",
    "        'Group': 42,\n",
    "        'physics': 7,\n",
    "        'informatics': 6,\n",
    "        'history': 8,\n",
    "    },\n",
    "    ...\n",
    "]"
   ]
  },
  {
   "cell_type": "code",
   "execution_count": 136,
   "metadata": {},
   "outputs": [],
   "source": [
    "pupils = [\n",
    "    {\n",
    "        'firstname': 'Masha',\n",
    "        'Group': 42,\n",
    "        'physics': 7,\n",
    "        'informatics': 6,\n",
    "        'history': 8,\n",
    "    },\n",
    "    {\n",
    "        'firstname': 'Stepa',\n",
    "        'Group': 42,\n",
    "        'physics': 2,\n",
    "        'informatics': 3,\n",
    "        'history': 4,\n",
    "    },\n",
    "    {\n",
    "        'firstname': 'Zeka',\n",
    "        'Group': 42,\n",
    "        'physics': 5,\n",
    "        'informatics': 7,\n",
    "        'history': 5,\n",
    "    },\n",
    "]"
   ]
  },
  {
   "cell_type": "code",
   "execution_count": null,
   "metadata": {},
   "outputs": [],
   "source": [
    "person = {\n",
    "    'firstname': 'Zeka',\n",
    "    'Group': 42,\n",
    "    'physics': 5,\n",
    "    'informatics': 7,\n",
    "    'history': 5,\n",
    "}\n",
    "print(person['physics'], person['history'], person['informatics'])\n",
    "print(person['physics'] + person['history'] + person['informatics'])\n",
    "print((person['physics'] + person['history'] + person['informatics']) / 3)"
   ]
  },
  {
   "cell_type": "code",
   "execution_count": 137,
   "metadata": {},
   "outputs": [
    {
     "name": "stdout",
     "output_type": "stream",
     "text": [
      "Masha\n",
      "Среднее по всем оценкам ученика:  7.0\n",
      "Stepa\n",
      "Среднее по всем оценкам ученика:  3.0\n",
      "Zeka\n",
      "Среднее по всем оценкам ученика:  5.666666666666667\n"
     ]
    }
   ],
   "source": [
    "# Step 1\n",
    "for person in pupils:\n",
    "    print(person['firstname'])\n",
    "    print(\n",
    "       'Среднее по всем оценкам ученика: ', \n",
    "        (person['physics'] + person['history'] + person['informatics']) / 3\n",
    "    )"
   ]
  },
  {
   "cell_type": "code",
   "execution_count": 138,
   "metadata": {
    "scrolled": true
   },
   "outputs": [
    {
     "name": "stdout",
     "output_type": "stream",
     "text": [
      "Masha\n",
      "Среднее по всем оценкам ученика:  7.0\n",
      "Zeka\n",
      "Среднее по всем оценкам ученика:  5.666666666666667\n"
     ]
    }
   ],
   "source": [
    "# Step 2\n",
    "for person in pupils:\n",
    "    avg = (person['physics'] + person['history'] + person['informatics']) / 3\n",
    "    if avg > 4:\n",
    "        print(person['firstname'])\n",
    "        print(\n",
    "           'Среднее по всем оценкам ученика: ', \n",
    "            avg\n",
    "        )"
   ]
  },
  {
   "cell_type": "code",
   "execution_count": null,
   "metadata": {},
   "outputs": [],
   "source": [
    "pupils.append(\n",
    "    {\n",
    "        'firstname': 'Liza',\n",
    "        'Group': 42,\n",
    "        'physics': 9,\n",
    "        'informatics': 8,\n",
    "        'history': 6,\n",
    "        'english': 10\n",
    "    }\n",
    ")"
   ]
  },
  {
   "cell_type": "code",
   "execution_count": 141,
   "metadata": {},
   "outputs": [],
   "source": [
    "pupils.append(\n",
    "    {\n",
    "        'firstname': 'Petr',\n",
    "        'Group': 42,\n",
    "        'physics': 9,\n",
    "        'history': 6,\n",
    "    }\n",
    ")"
   ]
  },
  {
   "cell_type": "code",
   "execution_count": 142,
   "metadata": {},
   "outputs": [],
   "source": [
    "SUBJECT_SET = {\n",
    "    \"physics\",\n",
    "    \"history\",\n",
    "    \"english\",\n",
    "    \"informatics\",\n",
    "    \"math\",\n",
    "    \"russian\",\n",
    "    \"music\",\n",
    "}"
   ]
  },
  {
   "cell_type": "code",
   "execution_count": 154,
   "metadata": {
    "scrolled": true
   },
   "outputs": [
    {
     "name": "stdout",
     "output_type": "stream",
     "text": [
      "Masha\n",
      "Сумма всех оценок: 21\n",
      "Среднее по всем оценкам ученика: 7.0\n",
      "\n",
      "Zeka\n",
      "Сумма всех оценок: 17\n",
      "Среднее по всем оценкам ученика: 5.666666666666667\n",
      "\n",
      "Liza\n",
      "Сумма всех оценок: 33\n",
      "Среднее по всем оценкам ученика: 8.25\n",
      "\n",
      "Petr\n",
      "Сумма всех оценок: 15\n",
      "Среднее по всем оценкам ученика: 7.5\n",
      "\n"
     ]
    }
   ],
   "source": [
    "# Step 3\n",
    "for person in pupils:\n",
    "    summa = 0\n",
    "    count_lessons = 0\n",
    "    for subject, value in person.items():\n",
    "        if subject in SUBJECT_SET:\n",
    "            # print(subject, end='; ')\n",
    "            summa += value\n",
    "            count_lessons += 1\n",
    "    if summa > 0 and summa / count_lessons > 4:\n",
    "        print(person['firstname'])\n",
    "        print(\"Сумма всех оценок:\", summa)\n",
    "        print(\"Среднее по всем оценкам ученика:\", summa / count_lessons)\n",
    "        print()"
   ]
  },
  {
   "cell_type": "markdown",
   "metadata": {},
   "source": [
    "# Задание 5.07 (HW)\n",
    "Написать игру. Пользователь должен угадать число. Сперва вводиться диапазон угадывания. После колличество попыток. В случае правильного ответа - выводить You are the winner. В случае неправильного давать игроку подсказку(больше или меньше искомое число). Если за указанное количество попыток число не угадано - выводить: You are the loser и правильное число.\n",
    " "
   ]
  },
  {
   "cell_type": "code",
   "execution_count": null,
   "metadata": {},
   "outputs": [],
   "source": []
  }
 ],
 "metadata": {
  "kernelspec": {
   "display_name": "Python 3",
   "language": "python",
   "name": "python3"
  },
  "language_info": {
   "codemirror_mode": {
    "name": "ipython",
    "version": 3
   },
   "file_extension": ".py",
   "mimetype": "text/x-python",
   "name": "python",
   "nbconvert_exporter": "python",
   "pygments_lexer": "ipython3",
   "version": "3.8.5"
  }
 },
 "nbformat": 4,
 "nbformat_minor": 4
}
