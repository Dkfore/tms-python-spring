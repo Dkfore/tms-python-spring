{
 "cells": [
  {
   "cell_type": "markdown",
   "metadata": {},
   "source": [
    "## Задание 2.01\n",
    "\n",
    ">- Создать переменные  _firstname, lastname, age_   с соответствующими значениями\n",
    ">- Путем сложения получить строку вида:  _Привет, меня зовут Иван Иванов, мне 35 лет_\n",
    ">- Примечание: переменную  _age_ задавать как строку ‘35’"
   ]
  },
  {
   "cell_type": "code",
   "execution_count": 1,
   "metadata": {
    "scrolled": true
   },
   "outputs": [
    {
     "name": "stdout",
     "output_type": "stream",
     "text": [
      "\n",
      "Привет, меня зовут Иван Иванов, мне 35 лет.\n",
      "\n"
     ]
    }
   ],
   "source": [
    "firstname = 'Иван'\n",
    "lastname = 'Иванов'\n",
    "age = '35'\n",
    "\n",
    "msg = f'\\nПривет, меня зовут {firstname} {lastname}, мне {age} лет.\\n'\n",
    "\n",
    "print(msg)"
   ]
  },
  {
   "cell_type": "markdown",
   "metadata": {},
   "source": [
    "## Задание 2.02\n",
    "\n",
    ">- Создать два списка произвольного содержания.\n",
    ">- Добавить к каждому списку по одному элементу в конец и в начало.\n",
    ">- Расширить первый список вторым.\n",
    ">- Все изменения выводить на экран."
   ]
  },
  {
   "cell_type": "code",
   "execution_count": 2,
   "metadata": {},
   "outputs": [
    {
     "name": "stdout",
     "output_type": "stream",
     "text": [
      "\n",
      "Original List_1: [1, 2, 3, 4]\n",
      "List_1 with item appended to the end: [1, 2, 3, 4, 5]\n",
      "List_1 with item inserted to the head: [0, 1, 2, 3, 4, 5]\n",
      "\n",
      "Original List_2: [7, 8, 9]\n",
      "List_2 with item appended to the end: [7, 8, 9, 10]\n",
      "List_2 with item inserted to the head: [6, 7, 8, 9, 10]\n",
      "\n",
      "List_1 extended with list_2: [0, 1, 2, 3, 4, 5, 6, 7, 8, 9, 10]\n",
      "\n"
     ]
    }
   ],
   "source": [
    "list_1 = [1, 2, 3, 4]\n",
    "list_2 = [7, 8, 9]\n",
    "\n",
    "# Modifying list_1\n",
    "\n",
    "print(f'\\nOriginal List_1: {list_1}')\n",
    "list_1.append(5)\n",
    "print(f'List_1 with item appended to the end: {list_1}')\n",
    "\n",
    "list_1.insert(0, 0)\n",
    "print(f'List_1 with item inserted to the head: {list_1}\\n')\n",
    "\n",
    "\n",
    "# Modifying list_2 \n",
    "\n",
    "print(f'Original List_2: {list_2}')\n",
    "list_2.append(10)\n",
    "print(f'List_2 with item appended to the end: {list_2}')\n",
    "\n",
    "list_2.insert(0, 6)\n",
    "print(f'List_2 with item inserted to the head: {list_2}\\n')\n",
    "\n",
    "\n",
    "# Extending list_1 with list_2\n",
    "\n",
    "list_1.extend(list_2)\n",
    "print(f'List_1 extended with list_2: {list_1}\\n')\n",
    "\n"
   ]
  },
  {
   "cell_type": "markdown",
   "metadata": {},
   "source": [
    "## Задание 2.03\n",
    "\n",
    ">- Создать список из двух элементов.\n",
    ">- Создать кортеж из двух элементов.\n",
    ">- Создать словарь с одной парой. Ключ - кортеж, значение - список\n",
    ">- Создать словарь с одной парой. Ключ - список, значение - кортеж"
   ]
  },
  {
   "cell_type": "code",
   "execution_count": 3,
   "metadata": {},
   "outputs": [
    {
     "name": "stdout",
     "output_type": "stream",
     "text": [
      "\n",
      "The list: ['one', 'two']\n",
      "The tuple: (1, 2)\n",
      "The dict: {(1, 2): ['one', 'two']}\n",
      "\n"
     ]
    }
   ],
   "source": [
    "# A list with two items\n",
    "\n",
    "list_1 = ['one', 'two']\n",
    "print(f'\\nThe list: {list_1}')\n",
    "\n",
    "# A Tuple with two items\n",
    "\n",
    "tuple_1 = (1, 2)\n",
    "print(f'The tuple: {tuple_1}')\n",
    "\n",
    "\n",
    "# A dictionary with one pair where the key is a tuple and the value is a list\n",
    "\n",
    "dict_1 = {tuple_1: list_1}\n",
    "print(f'The dict: {dict_1}\\n')"
   ]
  },
  {
   "cell_type": "code",
   "execution_count": 4,
   "metadata": {},
   "outputs": [
    {
     "ename": "TypeError",
     "evalue": "unhashable type: 'list'",
     "output_type": "error",
     "traceback": [
      "\u001b[1;31m---------------------------------------------------------------------------\u001b[0m",
      "\u001b[1;31mTypeError\u001b[0m                                 Traceback (most recent call last)",
      "\u001b[1;32m<ipython-input-4-5fb8dae7e4fa>\u001b[0m in \u001b[0;36m<module>\u001b[1;34m\u001b[0m\n\u001b[0;32m      3\u001b[0m \u001b[1;31m# results in an error cause the key unable to be of variable data type (list)\u001b[0m\u001b[1;33m\u001b[0m\u001b[1;33m\u001b[0m\u001b[1;33m\u001b[0m\u001b[0m\n\u001b[0;32m      4\u001b[0m \u001b[1;33m\u001b[0m\u001b[0m\n\u001b[1;32m----> 5\u001b[1;33m \u001b[0mdict_2\u001b[0m \u001b[1;33m=\u001b[0m \u001b[1;33m{\u001b[0m\u001b[0mlist_1\u001b[0m\u001b[1;33m:\u001b[0m \u001b[0mtuple_1\u001b[0m\u001b[1;33m}\u001b[0m\u001b[1;33m\u001b[0m\u001b[1;33m\u001b[0m\u001b[0m\n\u001b[0m",
      "\u001b[1;31mTypeError\u001b[0m: unhashable type: 'list'"
     ]
    }
   ],
   "source": [
    "\n",
    "# Attempt to create a dictionary with one pair\n",
    "# where the key is a list and the value is a tuple:\n",
    "# results in an error cause the key unable to be of variable data type (list)\n",
    "\n",
    "dict_2 = {list_1: tuple_1}"
   ]
  },
  {
   "cell_type": "markdown",
   "metadata": {},
   "source": [
    "## Задание 2.04\n",
    "\n",
    ">- Создать два списка a = [1,2,3,4] и b = [ ]\n",
    ">- Вывести на экран id a и b\n",
    ">- Присвоить b значение a (b=a)\n",
    ">- Вывести на экран id переменных\n",
    ">- Добавить элемент в список b\n",
    ">- Вывести на экран оба списка"
   ]
  },
  {
   "cell_type": "code",
   "execution_count": 5,
   "metadata": {},
   "outputs": [
    {
     "name": "stdout",
     "output_type": "stream",
     "text": [
      "\n",
      "id(a): 2360068193920\n",
      "id(b): 2360067932992\n",
      "id(a) = id(b): False \n",
      "\n",
      "id(a): 2360068193920\n",
      "id(b): 2360068193920\n",
      "id(a) = id(b): True \n",
      "\n",
      "\n",
      "List a: [1, 2, 3, 4, 'new_one']\n",
      "List b: [1, 2, 3, 4, 'new_one']\n",
      "\n",
      "List a: [1, 2, 3, 4, 'new_one', 'next_one']\n",
      "List b: [1, 2, 3, 4, 'new_one', 'next_one']\n",
      "\n"
     ]
    }
   ],
   "source": [
    "a = [1, 2, 3, 4]\n",
    "b = []\n",
    "\n",
    "info = (f'\\nid(a): {id(a)}\\n'\n",
    "        f'id(b): {id(b)}\\n'\n",
    "        f'id(a) = id(b): {id(a) == id(b)} \\n')\n",
    "print(info)\n",
    "\n",
    "b = a\n",
    "info = (f'id(a): {id(a)}\\n'\n",
    "        f'id(b): {id(b)}\\n'\n",
    "        f'id(a) = id(b): {id(a) == id(b)} \\n')\n",
    "print(info)\n",
    "\n",
    "\n",
    "b.append('new_one')\n",
    "print(f'\\nList a: {a}\\nList b: {b}')\n",
    "\n",
    "a.append('next_one')\n",
    "print(f'\\nList a: {a}\\nList b: {b}\\n')"
   ]
  },
  {
   "cell_type": "code",
   "execution_count": null,
   "metadata": {},
   "outputs": [],
   "source": []
  }
 ],
 "metadata": {
  "kernelspec": {
   "display_name": "Python 3.8.3 64-bit ('base')",
   "language": "python",
   "name": "python38364bitbase144286f6400b4c26ba477dc7ae74b0f6"
  },
  "language_info": {
   "codemirror_mode": {
    "name": "ipython",
    "version": 3
   },
   "file_extension": ".py",
   "mimetype": "text/x-python",
   "name": "python",
   "nbconvert_exporter": "python",
   "pygments_lexer": "ipython3",
   "version": "3.8.3"
  }
 },
 "nbformat": 4,
 "nbformat_minor": 4
}
